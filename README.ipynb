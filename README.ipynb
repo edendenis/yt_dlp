{
  "cells": [
    {
      "cell_type": "markdown",
      "metadata": {
        "id": "adEwItQx4oN5"
      },
      "source": [
        "# Como configurar/instalar o `yt-dlp` no Linux Ubuntu\n",
        "\n",
        "## Resumo\n",
        "\n",
        "Neste documento estão contidos os principais comandos e configurações para configurar/instalar o Warsaw do `yt-dpl` no Linux Ubuntu.\n",
        "\n",
        "## _Abstract_\n",
        "\n",
        "_This document contains the main commands and configurations to configure/install Warsaw from `yt-dpl` on Linux Ubuntu._"
      ]
    },
    {
      "cell_type": "markdown",
      "metadata": {
        "id": "N_vik-a94oOC",
        "vscode": {
          "languageId": "plaintext"
        }
      },
      "source": [
        "## Descrição [2]\n",
        "\n",
        "### `yt-dlp`\n",
        "\n",
        "O `yt-dlp` é uma ferramenta de linha de comando escrita em Python que permite aos usuários baixar vídeos de inúmeros sites de compartilhamento de vídeos como o YouTube, Facebook, Vimeo, e muitos outros. É um fork do popular `youtube-dlc`, que por sua vez é uma continuação do `youtube-dl`, e traz melhorias significativas em termos de velocidade, funcionalidades e a capacidade de contornar as restrições de download impostas por alguns sites. Com `yt-dlp`, você pode baixar vídeos em diferentes formatos e qualidades, extrair áudio, baixar playlists inteiras, e até mesmo configurar downloads automáticos através de scripts, fazendo dele uma ferramenta versátil e poderosa para armazenamento offline de conteúdo de vídeo.\n"
      ]
    },
    {
      "cell_type": "markdown",
      "metadata": {
        "id": "pIftOt5K4oOD"
      },
      "source": [
        "## 1. Configurar/Instalar o `yt-dlp` Ubuntu [1]\n",
        "\n",
        "Para configurar/instalar o `yt-dlp`, você pode seguir estas etapas:\n",
        "\n",
        "1. Abra o terminal. Você pode fazer isso pressionando: `Ctrl + Alt + T`\n"
      ]
    },
    {
      "cell_type": "markdown",
      "metadata": {
        "id": "OPsnjN4j4oOD"
      },
      "source": [
        "2. Certifique-se de que seu sistema esteja limpo e atualizado.\n",
        "\n",
        "    2.1 Limpar o `cache` do gerenciador de pacotes APT. Especificamente, ele remove todos os arquivos de pacotes (`.deb`) baixados pelo APT e armazenados em `/var/cache/apt/archives/`. Digite o seguinte comando: `sudo apt clean`\n",
        "    \n",
        "    2.2 Remover pacotes `.deb` antigos ou duplicados do cache local. É útil para liberar espaço, pois remove apenas os pacotes que não podem mais ser baixados (ou seja, versões antigas de pacotes que foram atualizados). Digite o seguinte comando: `sudo apt autoclean`\n",
        "\n",
        "    2.3 Remover pacotes que foram automaticamente instalados para satisfazer as dependências de outros pacotes e que não são mais necessários. Digite o seguinte comando: `sudo apt autoremove -y`\n",
        "\n",
        "    2.4 Buscar as atualizações disponíveis para os pacotes que estão instalados em seu sistema. Digite o seguinte comando e pressione `Enter`: `sudo apt update -y`\n",
        "\n",
        "    2.5 Para ver a lista de pacotes a serem atualizados, digite o seguinte comando e pressione `Enter`:  `sudo apt list --upgradable`\n",
        "\n",
        "    2.6 Realmente atualizar os pacotes instalados para as suas versões mais recentes, com base na última vez que você executou `sudo apt update -y`. Digite o seguinte comando e pressione `Enter`: `sudo apt full-upgrade -y`\n",
        "\n",
        "    2.7 Remover pacotes que foram automaticamente instalados para satisfazer as dependências de outros pacotes e que não são mais necessários. Digite o seguinte comando: `sudo apt autoremove -y`\n",
        "\n",
        "    2.8 Remover pacotes `.deb` antigos ou duplicados do cache local. É útil para liberar espaço, pois remove apenas os pacotes que não podem mais ser baixados (ou seja, versões antigas de pacotes que foram atualizados). Digite o seguinte comando: `sudo apt autoclean`"
      ]
    },
    {
      "cell_type": "markdown",
      "metadata": {
        "id": "y12fuW3p4oOE"
      },
      "source": [
        "3. **Você poderá instalar o `yt-dlp` usando o comando**: `sudo apt install yt-dlp -y`\n",
        "\n",
        "4. Depois de concluir a instalação do `yt-dlp`, você pode usar o comando `yt-dlp` para baixar vídeos do YouTube como demonstrado anteriormente: `yt-dlp https://www.youtube.com/watch?v=VxnHJkpl4oo`\n",
        "\n",
        "    - Isso deve permitir que você baixe vídeos do YouTube com sucesso.\n"
      ]
    },
    {
      "cell_type": "markdown",
      "metadata": {
        "id": "c1Uupz3_4oOF"
      },
      "source": [
        "## 2. Código completo para configurar/instalar\n",
        "\n",
        "Para configurar/instalar o `yt-dlp`p no Linux Ubuntu sem precisar digitar linha por linha, você pode seguir estas etapas:\n",
        "\n",
        "1. Abra o terminal. Você pode fazer isso pressionando: `Ctrl + Alt + T`\n",
        "\n",
        "2. Digite o seguinte comando e pressione `Enter`:\n",
        "\n",
        "    ```\n",
        "    sudo apt clean\n",
        "    sudo apt autoclean\n",
        "    sudo apt autoremove\n",
        "    sudo apt update -y\n",
        "    sudo apt autoremove\n",
        "    sudo apt autoclean\n",
        "    sudo apt list --upgradable\n",
        "    sudo apt full-upgrade -y\n",
        "    sudo apt install yt-dlp -y\n",
        "    ```"
      ]
    },
    {
      "cell_type": "markdown",
      "metadata": {
        "id": "e2PMT8r74oOG",
        "vscode": {
          "languageId": "plaintext"
        }
      },
      "source": [
        "## Referências\n",
        "\n",
        "[1] OPENAI. ***Baixar vídeos do youtube.*** Disponível em: <https://chat.openai.com/c/87f54416-69e5-448d-a8c4-b65b7d4ba0ad> (texto adaptado). ChatGPT. Acessado em: 04/10/2023 21:29.\n",
        "\n",
        "[2] OPENAI. ***Baixar vídeos com `yt-dlp`.*** Disponível em: <https://chat.openai.com/c/6cd29c98-8868-444a-bdc3-47e4c9c2e272> (texto adaptado). ChatGPT. Acessado em: 05/11/2023 23:17."
      ]
    }
  ],
  "metadata": {
    "colab": {
      "provenance": []
    },
    "kernelspec": {
      "display_name": "Python 3",
      "language": "python",
      "name": "python3"
    },
    "language_info": {
      "codemirror_mode": {
        "name": "ipython",
        "version": 3
      },
      "file_extension": ".py",
      "mimetype": "text/x-python",
      "name": "python",
      "nbconvert_exporter": "python",
      "pygments_lexer": "ipython3",
      "version": "3.8.10"
    },
    "orig_nbformat": 4
  },
  "nbformat": 4,
  "nbformat_minor": 0
}
